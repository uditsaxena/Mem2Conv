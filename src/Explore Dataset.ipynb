{
 "cells": [
  {
   "cell_type": "code",
   "execution_count": 39,
   "metadata": {},
   "outputs": [
    {
     "name": "stdout",
     "output_type": "stream",
     "text": [
      "The autoreload extension is already loaded. To reload it, use:\n",
      "  %reload_ext autoreload\n"
     ]
    }
   ],
   "source": [
    "%load_ext autoreload\n",
    "%autoreload 2\n",
    "import os, json\n",
    "from explore_dataset import *\n",
    "# print(os.getcwd())"
   ]
  },
  {
   "cell_type": "code",
   "execution_count": null,
   "metadata": {},
   "outputs": [],
   "source": [
    "data_dir = \"../data/CSQA_v9\"\n",
    "root_dirs = ['valid', 'test', 'train']"
   ]
  },
  {
   "cell_type": "markdown",
   "metadata": {},
   "source": [
    "## Use the following question types for filtering conversations"
   ]
  },
  {
   "cell_type": "code",
   "execution_count": 45,
   "metadata": {
    "scrolled": true
   },
   "outputs": [
    {
     "name": "stdout",
     "output_type": "stream",
     "text": [
      "Question Type Filters: \n",
      "Simple Question (Direct)\n",
      "Simple Question (Coreferenced)\n",
      "Quantitative Reasoning (All)\n",
      "Comparative Reasoning (All)\n",
      "Clarification\n",
      "Verification (Boolean) (All)\n",
      "Logical Reasoning (All)\n",
      "Comparative Reasoning (Count) (All)\n",
      "Quantitative Reasoning (Count) (All)\n",
      "Simple Question (Ellipsis)\n"
     ]
    }
   ],
   "source": [
    "qt_index_lookup, qt_filter = build_question_type_filter(data_dir=data_dir, root_dirs=['train'], limit=5)"
   ]
  },
  {
   "cell_type": "markdown",
   "metadata": {},
   "source": [
    "### Example filter"
   ]
  },
  {
   "cell_type": "code",
   "execution_count": 60,
   "metadata": {},
   "outputs": [
    {
     "name": "stdout",
     "output_type": "stream",
     "text": [
      "Present in the file:  ../data/CSQA_v9/train/QA_103/QA_120.json \n",
      "\n",
      "USER: Which occupations have Jules Huret as his/her 's career ? (type: Simple Question (Direct))\n",
      "SYSTEM: journalist, writer\n",
      "---------\n",
      "USER: Which occupation does that one belong to ? (type: Clarification)\n",
      "SYSTEM: Did you mean journalist ?\n",
      "---------\n",
      "USER: No, I meant writer. Could you tell me the answer for that? (type: Simple Question (Coreferenced))\n",
      "SYSTEM: journalist\n",
      "USER: How many behaviors or occupations are associated with the field of occupation that occupation ? (type: Quantitative Reasoning (Count) (All))\n",
      "SYSTEM: 2\n",
      "USER: And which occupation? (type: Simple Question (Ellipsis))\n",
      "SYSTEM: writer\n",
      "USER: How many people are the patron saint of approximately the same number of occupations as Emilianus of Trevi ? (type: Comparative Reasoning (Count) (All))\n",
      "SYSTEM: 266\n",
      "USER: Which french administrative division is the place of birth of Jules Huret ? (type: Simple Question (Direct))\n",
      "SYSTEM: Boulogne-sur-Mer\n",
      "USER: Which occupations are appointed by atleast 1 municipal councils and institutions ? (type: Quantitative Reasoning (All))\n",
      "SYSTEM: United Nations Secretary-General, municipal executive of Zoetermeer, municipal executive of Eindhoven\n",
      "USER: How many people are the patron saint of approximately 2 occupations ? (type: Quantitative Reasoning (Count) (All))\n",
      "SYSTEM: 10\n",
      "USER: What is the sex of Jules Huret ? (type: Simple Question (Direct))\n",
      "SYSTEM: male\n",
      "USER: Which administrative territory is the native country of Jules Huret ? (type: Simple Question (Direct))\n",
      "SYSTEM: France\n",
      "USER: Who are the chiefs of state of that administrative territory ? (type: Simple Question (Coreferenced))\n",
      "SYSTEM: Jacques Chirac, Charles de Gaulle, François Mitterrand\n"
     ]
    }
   ],
   "source": [
    "filter_sample_conversation(qt_index_lookup, qt_filter, question_type=\"Clarification\")"
   ]
  },
  {
   "cell_type": "code",
   "execution_count": 51,
   "metadata": {},
   "outputs": [
    {
     "name": "stdout",
     "output_type": "stream",
     "text": [
      "USER: Which administrative territory was Pavel Astakhov born in ? (type: Simple Question (Direct))\n",
      "SYSTEM: Moscow\n",
      "USER: Which aerodromes are served by that administrative territory ? (type: Simple Question (Coreferenced))\n",
      "SYSTEM: Domodedovo International Airport, Bykovo Airport, Ramenskoye Airport\n",
      "USER: What is located at Moscow ? (type: Simple Question (Direct))\n",
      "SYSTEM: Eighth Sister\n",
      "USER: Which organization has that administrative territory as its subsidiary ? (type: Simple Question (Coreferenced))\n",
      "SYSTEM: Infobip\n",
      "USER: Does that organization have its head office location at London and Skiu-Kaya ? (type: Verification (Boolean) (All))\n",
      "SYSTEM: YES and NO respectively\n",
      "USER: How many organizations are the etymology of approximately the same number of administrative territories and temples as Port Line ? (type: Comparative Reasoning (Count) (All))\n",
      "SYSTEM: 153\n",
      "USER: Which aerodromes were atleast 1 products or aircraft models exhibited at ? (type: Quantitative Reasoning (All))\n",
      "SYSTEM: Kirtland Air Force Base, Langley Field, Middleton Field\n",
      "USER: How many products were displayed at that aerodrome ? (type: Clarification)\n",
      "SYSTEM: Did you mean Middleton Field ?\n",
      "USER: Yes (type: Quantitative Reasoning (Count) (All))\n",
      "SYSTEM: 1\n",
      "USER: How many tower blocks are owned by more number of administrative territories and authority organs than John Hancock Tower ? (type: Comparative Reasoning (Count) (All))\n",
      "SYSTEM: 7\n",
      "USER: And also tell me about Three Embarcadero Center? (type: Comparative Reasoning (Count) (All))\n",
      "SYSTEM: 7\n",
      "USER: Which administrative territory has Moscow as its capital ? (type: Simple Question (Direct))\n",
      "SYSTEM: Russia\n"
     ]
    }
   ],
   "source": [
    "show_conversation(filename=\"../data/CSQA_v9/train/QA_0/QA_1.json\")"
   ]
  },
  {
   "cell_type": "code",
   "execution_count": 6,
   "metadata": {},
   "outputs": [
    {
     "name": "stdout",
     "output_type": "stream",
     "text": [
      "comp_wikidata_rev.json\n",
      "child_par_dict_save.json\n",
      "wikidata_short_2.json\n",
      "prop_obj_90_map5.json\n",
      "child_par_dict_immed.json\n",
      "child_par_dict_name_2_corr.json\n",
      "filtered_property_wikidata4.json\n",
      "child_all_parents_till_5_levels.json\n",
      "wikidata_fanout_dict.json\n",
      "wikidata_rev_type_dict.json\n",
      "wikidata_type_dict.json\n",
      "par_child_dict.json\n",
      "items_wikidata_n.json\n",
      "prop_sub_90_map5.json\n",
      "wikidata_short_1.json\n"
     ]
    }
   ],
   "source": [
    "for file in files:\n",
    "    if file.endswith(\".json\"):\n",
    "        print(file)"
   ]
  }
 ],
 "metadata": {
  "kernelspec": {
   "display_name": "Python 3",
   "language": "python",
   "name": "python3"
  },
  "language_info": {
   "codemirror_mode": {
    "name": "ipython",
    "version": 3
   },
   "file_extension": ".py",
   "mimetype": "text/x-python",
   "name": "python",
   "nbconvert_exporter": "python",
   "pygments_lexer": "ipython3",
   "version": "3.6.1"
  }
 },
 "nbformat": 4,
 "nbformat_minor": 1
}
