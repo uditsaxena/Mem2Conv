{
 "cells": [
  {
   "cell_type": "code",
   "execution_count": 72,
   "metadata": {},
   "outputs": [
    {
     "name": "stdout",
     "output_type": "stream",
     "text": [
      "The autoreload extension is already loaded. To reload it, use:\n",
      "  %reload_ext autoreload\n"
     ]
    }
   ],
   "source": [
    "%load_ext autoreload\n",
    "%autoreload 2\n",
    "import os, json\n",
    "from explore_dataset import *\n",
    "# print(os.getcwd())"
   ]
  },
  {
   "cell_type": "code",
   "execution_count": null,
   "metadata": {},
   "outputs": [],
   "source": [
    "data_dir = \"../data/CSQA_v9\"\n",
    "root_dirs = ['valid', 'test', 'train']"
   ]
  },
  {
   "cell_type": "markdown",
   "metadata": {},
   "source": [
    "## Use the following question types for filtering conversations"
   ]
  },
  {
   "cell_type": "code",
   "execution_count": 45,
   "metadata": {
    "scrolled": true
   },
   "outputs": [
    {
     "name": "stdout",
     "output_type": "stream",
     "text": [
      "Question Type Filters: \n",
      "Simple Question (Direct)\n",
      "Simple Question (Coreferenced)\n",
      "Quantitative Reasoning (All)\n",
      "Comparative Reasoning (All)\n",
      "Clarification\n",
      "Verification (Boolean) (All)\n",
      "Logical Reasoning (All)\n",
      "Comparative Reasoning (Count) (All)\n",
      "Quantitative Reasoning (Count) (All)\n",
      "Simple Question (Ellipsis)\n"
     ]
    }
   ],
   "source": [
    "qt_index_lookup, qt_filter = build_question_type_filter(data_dir=data_dir, root_dirs=['train'], limit=5)"
   ]
  },
  {
   "cell_type": "markdown",
   "metadata": {},
   "source": [
    "### Example filter"
   ]
  },
  {
   "cell_type": "code",
   "execution_count": 61,
   "metadata": {},
   "outputs": [
    {
     "name": "stdout",
     "output_type": "stream",
     "text": [
      "Present in the file:  ../data/CSQA_v9/train/QA_103/QA_6.json \n",
      "\n",
      "USER: Which political organization is Nino Sospiri a member of ? (type: Simple Question (Direct))\n",
      "SYSTEM: National Alliance\n",
      "USER: Which administrative territory is the native country of that person ? (type: Simple Question (Coreferenced))\n",
      "SYSTEM: Italy\n",
      "USER: Which administrative territory is the work location of that person ? (type: Simple Question (Coreferenced))\n",
      "SYSTEM: Rome\n",
      "USER: How many ship types have more number of administrative territories as registry port than Nymph ? (type: Comparative Reasoning (Count) (All))\n",
      "SYSTEM: 70\n",
      "USER: And how about Confidence? (type: Comparative Reasoning (Count) (All))\n",
      "SYSTEM: 70\n",
      "USER: Which ship types have approximately 1 administrative territory as their registry harbour ? (type: Quantitative Reasoning (All))\n",
      "SYSTEM: RMS Aquitania, MS Oasis of the Seas, MY Sam Simon\n",
      "USER: How many administrative territories were Nino Sospiri born ? (type: Quantitative Reasoning (Count) (All))\n",
      "SYSTEM: 1\n",
      "USER: And what about Marcello Sacchi? (type: Quantitative Reasoning (Count) (All))\n",
      "SYSTEM: 1\n",
      "USER: Where did that person expire ? (type: Simple Question (Coreferenced))\n",
      "SYSTEM: San Marco Argentano\n",
      "USER: Which sex does that person belong to ? (type: Simple Question (Coreferenced))\n",
      "SYSTEM: male\n",
      "USER: Or Paul Tassone? (type: Logical Reasoning (All))\n",
      "SYSTEM: male\n",
      "USER: How many paintings were discovered at Rome or Knossos ? (type: Quantitative Reasoning (Count) (All))\n",
      "SYSTEM: 2\n",
      "USER: Which people are the patron saint of Rome ? (type: Simple Question (Direct))\n",
      "SYSTEM: Paul, Peter\n",
      "USER: Which temples have adopted those people as patron saint ? (type: Simple Question (Coreferenced))\n",
      "SYSTEM: St. Peter and Paul for 3rd, St. Peter and Paul Church for 1st, 2nd\n",
      "---------\n",
      "USER: What are dedicated to that person ? (type: Clarification)\n",
      "SYSTEM: Did you mean Paul ?\n",
      "---------\n",
      "USER: Yes (type: Simple Question (Coreferenced))\n",
      "SYSTEM: St Peter and Paul's Catholic Church, Church of St Peter, St Paul and St John, Llantrisant, St Paul's Church\n"
     ]
    }
   ],
   "source": [
    "filter_sample_conversation(qt_index_lookup, qt_filter, question_type=\"Clarification\")"
   ]
  },
  {
   "cell_type": "code",
   "execution_count": 51,
   "metadata": {},
   "outputs": [
    {
     "name": "stdout",
     "output_type": "stream",
     "text": [
      "USER: Which administrative territory was Pavel Astakhov born in ? (type: Simple Question (Direct))\n",
      "SYSTEM: Moscow\n",
      "USER: Which aerodromes are served by that administrative territory ? (type: Simple Question (Coreferenced))\n",
      "SYSTEM: Domodedovo International Airport, Bykovo Airport, Ramenskoye Airport\n",
      "USER: What is located at Moscow ? (type: Simple Question (Direct))\n",
      "SYSTEM: Eighth Sister\n",
      "USER: Which organization has that administrative territory as its subsidiary ? (type: Simple Question (Coreferenced))\n",
      "SYSTEM: Infobip\n",
      "USER: Does that organization have its head office location at London and Skiu-Kaya ? (type: Verification (Boolean) (All))\n",
      "SYSTEM: YES and NO respectively\n",
      "USER: How many organizations are the etymology of approximately the same number of administrative territories and temples as Port Line ? (type: Comparative Reasoning (Count) (All))\n",
      "SYSTEM: 153\n",
      "USER: Which aerodromes were atleast 1 products or aircraft models exhibited at ? (type: Quantitative Reasoning (All))\n",
      "SYSTEM: Kirtland Air Force Base, Langley Field, Middleton Field\n",
      "USER: How many products were displayed at that aerodrome ? (type: Clarification)\n",
      "SYSTEM: Did you mean Middleton Field ?\n",
      "USER: Yes (type: Quantitative Reasoning (Count) (All))\n",
      "SYSTEM: 1\n",
      "USER: How many tower blocks are owned by more number of administrative territories and authority organs than John Hancock Tower ? (type: Comparative Reasoning (Count) (All))\n",
      "SYSTEM: 7\n",
      "USER: And also tell me about Three Embarcadero Center? (type: Comparative Reasoning (Count) (All))\n",
      "SYSTEM: 7\n",
      "USER: Which administrative territory has Moscow as its capital ? (type: Simple Question (Direct))\n",
      "SYSTEM: Russia\n"
     ]
    }
   ],
   "source": [
    "show_conversation(filename=\"../data/CSQA_v9/train/QA_0/QA_1.json\")"
   ]
  },
  {
   "cell_type": "code",
   "execution_count": 63,
   "metadata": {},
   "outputs": [
    {
     "name": "stdout",
     "output_type": "stream",
     "text": [
      "comp_wikidata_rev.json\n",
      "child_par_dict_save.json\n",
      "wikidata_short_2.json\n",
      "prop_obj_90_map5.json\n",
      "child_par_dict_immed.json\n",
      "child_par_dict_name_2_corr.json\n",
      "filtered_property_wikidata4.json\n",
      "child_all_parents_till_5_levels.json\n",
      "wikidata_fanout_dict.json\n",
      "wikidata_rev_type_dict.json\n",
      "wikidata_type_dict.json\n",
      "par_child_dict.json\n",
      "items_wikidata_n.json\n",
      "prop_sub_90_map5.json\n",
      "wikidata_short_1.json\n"
     ]
    }
   ],
   "source": [
    "# root_data_dir = \n",
    "wikidata_dir = \"../data/wikidata\"\n",
    "files = os.listdir(wikidata_dir)\n",
    "\n",
    "for file in files:\n",
    "    if file.endswith(\".json\"):\n",
    "        print(file)"
   ]
  },
  {
   "cell_type": "markdown",
   "metadata": {},
   "source": [
    "### This step loads a huge file - it might take some time..."
   ]
  },
  {
   "cell_type": "code",
   "execution_count": 65,
   "metadata": {},
   "outputs": [],
   "source": [
    "item_label_file = open(wikidata_dir+\"/\"+\"items_wikidata_n.json\")\n",
    "item_dict = json.load(item_label_file)\n",
    "\n",
    "relation_label_file = open(wikidata_dir+\"/\"+\"filtered_property_wikidata4.json\")\n",
    "relation_dict = json.load(relation_label_file)"
   ]
  },
  {
   "cell_type": "code",
   "execution_count": 89,
   "metadata": {},
   "outputs": [
    {
     "name": "stdout",
     "output_type": "stream",
     "text": [
      "USER :  Which administrative territory is the country of origin of Frank and Jesse ?\n",
      "SYSTEM :  United States of America\n",
      "KB sub-graph: \n",
      "Frank and Jesse -- country of origin -- designation for an administrative territorial entity\n",
      "\n",
      "USER :  Which geographic locations are that administrative territory located in ?\n",
      "SYSTEM :  North America, Oceania\n",
      "KB sub-graph: \n",
      "United States of America -- continent -- geographic location\n",
      "\n",
      "USER :  Are Summerfield Schools located in those geographic locations ?\n",
      "SYSTEM :  NO\n",
      "KB sub-graph: \n",
      "Summerfield Schools -- continent -- North America\n",
      "\n",
      "Summerfield Schools -- continent -- Oceania\n",
      "\n",
      "USER :  Which people starred in Frank and Jesse or attended 2013 Iditarod ?\n",
      "SYSTEM :  Some of them are Jake Berkowitz, Anna Berington, Linwood Fiedler, Ken Anderson, Alexis Arquette, Jessie Royer, Justin Savidis, Newton Marshall, Lance Mackey, Richie Diehl\n",
      "KB sub-graph: \n",
      "OR: 2\n",
      "Frank and Jesse -- cast member -- common name\n",
      "2013 Iditarod -- participant -- common name\n",
      "\n",
      "USER :  How many US administrative territories or human settlements did Anna Berington reside ?\n",
      "SYSTEM :  3\n",
      "KB sub-graph: \n",
      "Anna Berington -- residence -- administrative territorial entity of the United States\n",
      "\n",
      "Anna Berington -- residence -- human settlement\n",
      "\n",
      "USER :  Which fictional humanoids have been dubbed by less number of people than Sayaka Miki ?\n",
      "SYSTEM :  Hector Barbossa, Eli Vance, Imoen\n",
      "KB sub-graph: \n",
      "fictional humanoid -- voice actor -- common name\n",
      "\n",
      "USER :  And also tell me about Mami Tomoe?\n",
      "SYSTEM :  Hector Barbossa, Eli Vance, Imoen\n",
      "KB sub-graph: \n",
      "fictional humanoid -- voice actor -- common name\n",
      "\n",
      "USER :  Which sex does that fictional humanoid possess ?\n",
      "SYSTEM :  Did you mean Eli Vance ?\n",
      "KB sub-graph: \n",
      "Hector Barbossa -- gender -- sex\n",
      "\n",
      "Eli Vance -- gender -- sex\n",
      "\n",
      "Imoen -- gender -- sex\n",
      "\n",
      "USER :  No, I meant Hector Barbossa. Could you tell me the answer for that?\n",
      "SYSTEM :  male\n",
      "KB sub-graph: \n",
      "Hector Barbossa -- gender -- sex\n",
      "\n",
      "USER :  Which recurring sporting events did Jessie Royer and Zack Steer participate in ?\n",
      "SYSTEM :  2010 Iditarod, 2007 Iditarod, 2005 Iditarod, 2008 Iditarod\n",
      "KB sub-graph: \n",
      "AND: 2\n",
      "recurring sporting event -- participant -- Jessie Royer\n",
      "recurring sporting event -- participant -- Zack Steer\n",
      "\n",
      "USER :  How many people competited in that recurring sporting event ?\n",
      "SYSTEM :  Did you mean 2007 Iditarod ?\n",
      "KB sub-graph: \n",
      "common name -- participant of -- 2010 Iditarod\n",
      "\n",
      "common name -- participant of -- 2007 Iditarod\n",
      "\n",
      "common name -- participant of -- 2005 Iditarod\n",
      "\n",
      "common name -- participant of -- 2008 Iditarod\n",
      "\n",
      "USER :  No, I meant 2005 Iditarod. Could you tell me the answer for that?\n",
      "SYSTEM :  79\n",
      "KB sub-graph: \n",
      "common name -- participant of -- 2005 Iditarod\n",
      "\n",
      "USER :  Which people took part in 2007 Iditarod and are a male ?\n",
      "SYSTEM :  Some of them are Bruce Linton, Matt Hayashida, Bryan Mills, Lance Mackey, Hans Gatt, Frank Sihler, Ramey Smyth, Richard Hum, Lachlan Clarke, Hugh Neff\n",
      "KB sub-graph: \n",
      "AND: 2\n",
      "common name -- participant of -- 2007 Iditarod\n",
      "common name -- gender -- male\n",
      "\n",
      "USER :  Which fictional characters had their voice dubbing done by atmost 3 people ?\n",
      "SYSTEM :  Marge Simpson, Homer Simpson, Neo\n",
      "KB sub-graph: \n",
      "fictional character -- voice actor -- common name\n",
      "\n"
     ]
    }
   ],
   "source": [
    "show_conversation_with_kb(item_dict, relation_dict)"
   ]
  }
 ],
 "metadata": {
  "kernelspec": {
   "display_name": "Python 3",
   "language": "python",
   "name": "python3"
  },
  "language_info": {
   "codemirror_mode": {
    "name": "ipython",
    "version": 3.0
   },
   "file_extension": ".py",
   "mimetype": "text/x-python",
   "name": "python",
   "nbconvert_exporter": "python",
   "pygments_lexer": "ipython3",
   "version": "3.6.1"
  }
 },
 "nbformat": 4,
 "nbformat_minor": 0
}