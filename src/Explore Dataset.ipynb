{
 "cells": [
  {
   "cell_type": "code",
   "execution_count": 39,
   "metadata": {},
   "outputs": [
    {
     "name": "stdout",
     "output_type": "stream",
     "text": [
      "The autoreload extension is already loaded. To reload it, use:\n",
      "  %reload_ext autoreload\n"
     ]
    }
   ],
   "source": [
    "%load_ext autoreload\n",
    "%autoreload 2\n",
    "import os, json\n",
    "from explore_dataset import *\n",
    "# print(os.getcwd())"
   ]
  },
  {
   "cell_type": "code",
   "execution_count": null,
   "metadata": {},
   "outputs": [],
   "source": [
    "data_dir = \"../data/CSQA_v9\"\n",
    "root_dirs = ['valid', 'test', 'train']"
   ]
  },
  {
   "cell_type": "markdown",
   "metadata": {},
   "source": [
    "## Use the following question types for filtering conversations"
   ]
  },
  {
   "cell_type": "code",
   "execution_count": 37,
   "metadata": {
    "scrolled": true
   },
   "outputs": [
    {
     "name": "stdout",
     "output_type": "stream",
     "text": [
      "Question Type Filters: \n",
      "Simple Question\n",
      "Simple Question|Single Entity\n",
      "Simple Question|Single Entity|Indirect\n",
      "Quantitative|Min/Max|Mult. entity type\n",
      "Comparative|More/Less|Single entity type\n",
      "Comparative|More/Less|Single entity type|Incomplete\n",
      "Simple Question|Mult. Entity|Indirect\n",
      "Clarification for simple ques.\n",
      "Verification|2 entities, one direct and one indirect, subject is indirect\n",
      "Logical|Union|Multiple_Relation\n",
      "Logical|Intersection|Multiple_Relation\n",
      "Comparative|Count over More/Less|Single entity type|Indirect\n",
      "Comparative|Count over More/Less|Single entity type\n",
      "Comparative|Count over More/Less|Single entity type|Incomplete\n",
      "Quantitative|Atleast/ Atmost/ Approx. the same/Equal|Single entity type\n",
      "Quantitative|Count|Single entity type\n",
      "Incomplete count-based ques\n",
      "Logical|Union|Single_Relation|Incomplete\n",
      "Quantitative|Count|Mult. entity type\n",
      "Simple Question|Mult. Entity\n",
      "Quantitative|Atleast/ Atmost/ Approx. the same/Equal|Mult. entity type\n",
      "Logical|Union|Single_Relation\n",
      "Comparative|Count over More/Less|Single entity type|Clarification\n",
      "only subject is changed, parent and predicate remains same\n",
      "Quantitative|Count|Single entity type|Incomplete\n",
      "Verification|2 entities, one direct and one indirect, object is indirect\n",
      "Quantitative|Min/Max|Single entity type\n",
      "Quantitative|Count|Logical operators|Indirect\n",
      "Incomplete|object parent is changed, subject and predicate remain same\n",
      "Quantitative|Count over Atleast/ Atmost/ Approx. the same/Equal|Single entity type\n",
      "Comparative|Count over More/Less|Mult. entity type\n",
      "Logical|Intersection|Single_Relation\n",
      "Comparative|More/Less|Mult. entity type|Indirect\n",
      "Quantitative|Count|Single entity type|Indirect\n",
      "Quantitative|Count|Single entity type|Clarification\n",
      "Quantitative|Count over Atleast/ Atmost/ Approx. the same/Equal|Mult. entity type\n",
      "Comparative|More/Less|Mult. entity type\n",
      "Comparative|More/Less|Mult. entity type|Incomplete\n",
      "Quantitative|Count|Logical operators\n",
      "Verification|3 entities, 2 direct, 2(direct) are query entities, subject is indirect\n",
      "Verification|2 entities, both direct\n",
      "Verification|one entity, multiple entities (as object) referred indirectly\n",
      "Comparative|More/Less|Mult. entity type|Clarification\n",
      "Comparative|More/Less|Single entity type|Indirect\n",
      "Comparative|More/Less|Single entity type|Clarification\n",
      "Verification|3 entities, all direct, 2 are query entities\n",
      "Quantitative|Count|Mult. entity type|Clarification\n",
      "Logical|Difference|Multiple_Relation\n",
      "Comparative|Count over More/Less|Mult. entity type|Incomplete\n",
      "Comparative|Count over More/Less|Mult. entity type|Indirect\n",
      "Comparative|Count over More/Less|Mult. entity type|Clarification\n",
      "Logical|Difference|Single_Relation\n",
      "Logical|Intersection|Single_Relation|Incomplete\n"
     ]
    }
   ],
   "source": [
    "qt_index_lookup, qt_filter = build_question_type_filter(data_dir=data_dir, root_dirs=['train'], limit=5)"
   ]
  },
  {
   "cell_type": "markdown",
   "metadata": {},
   "source": [
    "### Example filter"
   ]
  },
  {
   "cell_type": "code",
   "execution_count": 42,
   "metadata": {},
   "outputs": [
    {
     "name": "stdout",
     "output_type": "stream",
     "text": [
      "USER: Which administrative territory was Johann Kayser born in ? (type: Simple Question (Direct))\n",
      "SYSTEM: Lippstadt\n",
      "USER: Where did Johann Kayser expire ? (type: Simple Question (Direct))\n",
      "SYSTEM: Kleve\n",
      "USER: Which administrative territories are the countries of origin of less number of collectables and musical ensembles than Tunisia ? (type: Comparative Reasoning (All))\n",
      "SYSTEM: Yemen, North Korea, Bosnia and Herzegovina\n",
      "USER: And what about Colombia? (type: Comparative Reasoning (All))\n",
      "SYSTEM: Zambia, Belarus, Luxembourg\n",
      "USER: Which administrative territories have atleast 1 occupations or administrative territories as the form of government ? (type: Quantitative Reasoning (All))\n",
      "SYSTEM: Afghanistan, Andorra, Hummelfeld\n",
      "USER: How many national sports teams and national association football teams represent Zambia ? (type: Quantitative Reasoning (Count) (All))\n",
      "SYSTEM: 1 national sports teams and 4 national association football teams\n",
      "USER: Which geographic location is that administrative territory situated in ? (type: Simple Question (Coreferenced))\n",
      "SYSTEM: Africa\n",
      "USER: Is that geographic location a part of BAFS Building and Palace of the Counts of Penafiel ? (type: Verification (Boolean) (All))\n",
      "SYSTEM: NO\n",
      "USER: Does Uzbekistan share the border with Afghanistan ? (type: Verification (Boolean) (All))\n",
      "SYSTEM: YES\n",
      "USER: Which administrative territories are min number of languages or classification schemes the official language of ? (type: Quantitative Reasoning (All))\n",
      "SYSTEM: Brazil, United States of America, Georgia\n",
      "USER: Which political territories are the countries of citizenship of Johann Kayser or Marcus Garvey ? (type: Logical Reasoning (All))\n",
      "SYSTEM: Jamaica, Germany\n",
      "USER: Are Peter-Paul Zahl a citizen of those political territories ? (type: Verification (Boolean) (All))\n",
      "SYSTEM: YES\n",
      "USER: Which administrative territories have ambassadorial relations with max number of political territories ? (type: Quantitative Reasoning (All))\n",
      "SYSTEM: Georgia\n"
     ]
    }
   ],
   "source": [
    "filter_sample_conversation(qt_index_lookup, qt_filter, question_type=\"Verification|2 entities, both direct\")"
   ]
  },
  {
   "cell_type": "code",
   "execution_count": 41,
   "metadata": {},
   "outputs": [
    {
     "name": "stdout",
     "output_type": "stream",
     "text": [
      "USER: Which administrative territory was Pavel Astakhov born in ? (type: Simple Question (Direct))\n",
      "SYSTEM: Moscow\n",
      "USER: Which aerodromes are served by that administrative territory ? (type: Simple Question (Coreferenced))\n",
      "SYSTEM: Domodedovo International Airport, Bykovo Airport, Ramenskoye Airport\n",
      "USER: What is located at Moscow ? (type: Simple Question (Direct))\n",
      "SYSTEM: Eighth Sister\n",
      "USER: Which organization has that administrative territory as its subsidiary ? (type: Simple Question (Coreferenced))\n",
      "SYSTEM: Infobip\n",
      "USER: Does that organization have its head office location at London and Skiu-Kaya ? (type: Verification (Boolean) (All))\n",
      "SYSTEM: YES and NO respectively\n",
      "USER: How many organizations are the etymology of approximately the same number of administrative territories and temples as Port Line ? (type: Comparative Reasoning (Count) (All))\n",
      "SYSTEM: 153\n",
      "USER: Which aerodromes were atleast 1 products or aircraft models exhibited at ? (type: Quantitative Reasoning (All))\n",
      "SYSTEM: Kirtland Air Force Base, Langley Field, Middleton Field\n",
      "USER: How many products were displayed at that aerodrome ? (type: Clarification)\n",
      "SYSTEM: Did you mean Middleton Field ?\n",
      "USER: Yes (type: Quantitative Reasoning (Count) (All))\n",
      "SYSTEM: 1\n",
      "USER: How many tower blocks are owned by more number of administrative territories and authority organs than John Hancock Tower ? (type: Comparative Reasoning (Count) (All))\n",
      "SYSTEM: 7\n",
      "USER: And also tell me about Three Embarcadero Center? (type: Comparative Reasoning (Count) (All))\n",
      "SYSTEM: 7\n",
      "USER: Which administrative territory has Moscow as its capital ? (type: Simple Question (Direct))\n",
      "SYSTEM: Russia\n"
     ]
    }
   ],
   "source": [
    "show_conversation(filename=\"../data/CSQA_v9/train/QA_0/QA_1.json\")"
   ]
  },
  {
   "cell_type": "code",
   "execution_count": null,
   "metadata": {},
   "outputs": [],
   "source": []
  },
  {
   "cell_type": "code",
   "execution_count": 3,
   "metadata": {},
   "outputs": [
    {
     "name": "stdout",
     "output_type": "stream",
     "text": [
      "train\n",
      "28\n",
      "8\n",
      "2\n"
     ]
    }
   ],
   "source": [
    "\n",
    "#             print(curr_file_path)"
   ]
  },
  {
   "cell_type": "code",
   "execution_count": 4,
   "metadata": {},
   "outputs": [],
   "source": [
    "wikidata_dir = \"../data/wikidata\""
   ]
  },
  {
   "cell_type": "code",
   "execution_count": 5,
   "metadata": {},
   "outputs": [],
   "source": [
    "files = os.listdir(wikidata_dir)"
   ]
  },
  {
   "cell_type": "code",
   "execution_count": 6,
   "metadata": {},
   "outputs": [
    {
     "name": "stdout",
     "output_type": "stream",
     "text": [
      "comp_wikidata_rev.json\n",
      "child_par_dict_save.json\n",
      "wikidata_short_2.json\n",
      "prop_obj_90_map5.json\n",
      "child_par_dict_immed.json\n",
      "child_par_dict_name_2_corr.json\n",
      "filtered_property_wikidata4.json\n",
      "child_all_parents_till_5_levels.json\n",
      "wikidata_fanout_dict.json\n",
      "wikidata_rev_type_dict.json\n",
      "wikidata_type_dict.json\n",
      "par_child_dict.json\n",
      "items_wikidata_n.json\n",
      "prop_sub_90_map5.json\n",
      "wikidata_short_1.json\n"
     ]
    }
   ],
   "source": [
    "for file in files:\n",
    "    if file.endswith(\".json\"):\n",
    "        print(file)"
   ]
  }
 ],
 "metadata": {
  "kernelspec": {
   "display_name": "Python 3",
   "language": "python",
   "name": "python3"
  },
  "language_info": {
   "codemirror_mode": {
    "name": "ipython",
    "version": 3
   },
   "file_extension": ".py",
   "mimetype": "text/x-python",
   "name": "python",
   "nbconvert_exporter": "python",
   "pygments_lexer": "ipython3",
   "version": "3.6.1"
  }
 },
 "nbformat": 4,
 "nbformat_minor": 1
}
